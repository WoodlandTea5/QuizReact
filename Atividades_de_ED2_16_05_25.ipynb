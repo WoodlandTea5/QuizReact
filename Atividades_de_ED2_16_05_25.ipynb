{
  "nbformat": 4,
  "nbformat_minor": 0,
  "metadata": {
    "colab": {
      "provenance": [],
      "authorship_tag": "ABX9TyPjAdz4DC1/6MjizNHnjq9q",
      "include_colab_link": true
    },
    "kernelspec": {
      "name": "python3",
      "display_name": "Python 3"
    },
    "language_info": {
      "name": "python"
    }
  },
  "cells": [
    {
      "cell_type": "markdown",
      "metadata": {
        "id": "view-in-github",
        "colab_type": "text"
      },
      "source": [
        "<a href=\"https://colab.research.google.com/github/WoodlandTea5/QuizReact/blob/main/Atividades_de_ED2_16_05_25.ipynb\" target=\"_parent\"><img src=\"https://colab.research.google.com/assets/colab-badge.svg\" alt=\"Open In Colab\"/></a>"
      ]
    },
    {
      "cell_type": "markdown",
      "source": [
        "Exercício 1: Inserção de Elemento em Lista Ordenada\n",
        "com Insertion Sort"
      ],
      "metadata": {
        "id": "tiR89SpJYkOP"
      }
    },
    {
      "cell_type": "code",
      "execution_count": null,
      "metadata": {
        "id": "bzZXaL_UYc4I",
        "colab": {
          "base_uri": "https://localhost:8080/"
        },
        "outputId": "4c1a7760-5ec5-4667-809b-3fb66b86ad30"
      },
      "outputs": [
        {
          "output_type": "stream",
          "name": "stdout",
          "text": [
            "1 2 4 5 5\n",
            "1 2 4 4 5\n",
            "1 2 3 4 5\n"
          ]
        }
      ],
      "source": [
        "def insertionSort1(n, arr):\n",
        "    e = arr[-1]\n",
        "    i = n - 2\n",
        "\n",
        "    while i >= 0 and arr[i] > e:\n",
        "        arr[i + 1] = arr[i]\n",
        "        print(' '.join(map(str, arr)))\n",
        "        i -= 1\n",
        "\n",
        "    arr[i + 1] = e\n",
        "    print(' '.join(map(str, arr)))\n",
        "\n",
        "# Exemplo de uso:\n",
        "n = 5\n",
        "arr = [1, 2, 4, 5, 3]\n",
        "insertionSort1(n, arr)"
      ]
    },
    {
      "cell_type": "markdown",
      "source": [
        "Exercício 2: Ordenação Completa com Insertion Sort"
      ],
      "metadata": {
        "id": "bFb0h-QqZDmB"
      }
    },
    {
      "cell_type": "code",
      "source": [
        "def insertionSort2(n, arr):\n",
        "    for i in range(1, n):\n",
        "        value = arr[i]\n",
        "        j = i - 1\n",
        "        while j >= 0 and arr[j] > value:\n",
        "            arr[j + 1] = arr[j]\n",
        "            j -= 1\n",
        "        arr[j + 1] = value\n",
        "        if i != 0:  # Não imprime na primeira iteração (i=1)\n",
        "            print(' '.join(map(str, arr)))\n",
        "\n",
        "# Exemplo de uso:\n",
        "n = 7\n",
        "arr = [3, 4, 7, 5, 6, 2, 1]\n",
        "insertionSort2(n, arr)"
      ],
      "metadata": {
        "id": "V_mI_zb3ZKcK",
        "colab": {
          "base_uri": "https://localhost:8080/"
        },
        "outputId": "6b040aa8-e136-4806-dff8-805f981b42ac"
      },
      "execution_count": null,
      "outputs": [
        {
          "output_type": "stream",
          "name": "stdout",
          "text": [
            "3 4 7 5 6 2 1\n",
            "3 4 7 5 6 2 1\n",
            "3 4 5 7 6 2 1\n",
            "3 4 5 6 7 2 1\n",
            "2 3 4 5 6 7 1\n",
            "1 2 3 4 5 6 7\n"
          ]
        }
      ]
    },
    {
      "cell_type": "markdown",
      "source": [
        "Exercício 3: Correção do Código Insertion Sort com\n",
        "Prova de Correção"
      ],
      "metadata": {
        "id": "MYT64C5eZQoh"
      }
    },
    {
      "cell_type": "code",
      "source": [
        "def insertionSort(arr):\n",
        "    for i in range(1, len(arr)):\n",
        "        value = arr[i]\n",
        "        j = i - 1\n",
        "        while j >= 0 and arr[j] > value:\n",
        "            arr[j + 1] = arr[j]\n",
        "            j -= 1\n",
        "        arr[j + 1] = value\n",
        "    print(' '.join(map(str, arr)))\n",
        "\n",
        "# Exemplo de uso:\n",
        "arr = [7, 4, 3, 5, 6, 2]\n",
        "insertionSort(arr)"
      ],
      "metadata": {
        "id": "N2FR2urnZZ_z",
        "colab": {
          "base_uri": "https://localhost:8080/"
        },
        "outputId": "20e1b080-fd2c-4c52-c233-74425413736b"
      },
      "execution_count": null,
      "outputs": [
        {
          "output_type": "stream",
          "name": "stdout",
          "text": [
            "2 3 4 5 6 7\n"
          ]
        }
      ]
    },
    {
      "cell_type": "markdown",
      "source": [
        "Exercício 4: Tempo de Execução do Insertion Sort"
      ],
      "metadata": {
        "id": "-grGP4dEZi0C"
      }
    },
    {
      "cell_type": "code",
      "source": [
        "def runningTime(arr):\n",
        "    shifts = 0\n",
        "    for i in range(1, len(arr)):\n",
        "        value = arr[i]\n",
        "        j = i\n",
        "        while j > 0 and arr[j - 1] > value:\n",
        "            arr[j] = arr[j - 1]\n",
        "            j -= 1\n",
        "            shifts += 1\n",
        "        arr[j] = value\n",
        "    return shifts\n",
        "\n",
        "# Exemplo de uso:\n",
        "print(runningTime([2, 1, 3, 1, 2]))"
      ],
      "metadata": {
        "id": "rZmlFktsZseM",
        "colab": {
          "base_uri": "https://localhost:8080/"
        },
        "outputId": "480f42a9-7230-4201-abb1-ddec42612b33"
      },
      "execution_count": null,
      "outputs": [
        {
          "output_type": "stream",
          "name": "stdout",
          "text": [
            "4\n"
          ]
        }
      ]
    }
  ]
}